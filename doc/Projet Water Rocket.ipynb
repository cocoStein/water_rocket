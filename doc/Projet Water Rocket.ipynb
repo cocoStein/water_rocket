{
 "cells": [
  {
   "cell_type": "markdown",
   "metadata": {},
   "source": [
    "# Projet Water ROCKET\n"
   ]
  },
  {
   "cell_type": "markdown",
   "metadata": {},
   "source": [
    "## Introduction"
   ]
  },
  {
   "cell_type": "markdown",
   "metadata": {},
   "source": [
    "Nous sommes deux élèves de 2e année de maturité. Pour poursuivre notre cursus, nous devons faire un TM ( travail de maturité).\n",
    "Le but du TM choisit est de modéliser la trajectoire d'une fusée à eau en Python en collaboration avec des expériences réelles du Projet.\n",
    "Pour ce faire, nous allons utilisé le IDE Pycharm pour la programation puis Github pour le partage de documents entre les principaux acteurs."
   ]
  },
  {
   "cell_type": "markdown",
   "metadata": {},
   "source": [
    "## Etapes de travail"
   ]
  },
  {
   "cell_type": "markdown",
   "metadata": {},
   "source": [
    "1. Familiarisation avec les outils de simulation et l'environement.\n",
    "2. Implémentation des équations de base du mouvement\n",
    "3. Prise en compte de facteur physique plus généraux.\n",
    "4. Créations d'un rendu dynamique."
   ]
  },
  {
   "cell_type": "markdown",
   "metadata": {},
   "source": [
    "## GitHub"
   ]
  },
  {
   "cell_type": "markdown",
   "metadata": {},
   "source": [
    "L'utilisation de GitHub pour ce projet est juducieux aussi bien pour nous que pour le professeur de Tm. Plus besoin de s'envoyer des mails avec le code et les changements éffectuer. Car tous le monde peut à tous moment aller sur le Github et voir l'avancement et les changement éffectuer par les utilisateurs. De plus, un historique de la totalité des commit est disponible sur le GitHub, ce qui nous permets ainsi de revenir sur un ancien code en cas de problème sur un code."
   ]
  },
  {
   "cell_type": "markdown",
   "metadata": {},
   "source": [
    "Lien pour le GitHub: https://github.com/cocoStein/water_rocket"
   ]
  },
  {
   "cell_type": "code",
   "execution_count": null,
   "metadata": {},
   "outputs": [],
   "source": []
  },
  {
   "cell_type": "markdown",
   "metadata": {},
   "source": [
    "## Classe Vecteur"
   ]
  },
  {
   "cell_type": "markdown",
   "metadata": {},
   "source": [
    "Comme nous allons représenter notre fusée dans un système en deux puis en trois dimensions, nous devons utilisé des vecteurs. Python ne gérant pas (de base) les vecteurs, nous devons créer une classe vecteur qui pourra gérer des opérations entre plusieur vecteur."
   ]
  },
  {
   "cell_type": "markdown",
   "metadata": {},
   "source": [
    "### Premier essai"
   ]
  },
  {
   "cell_type": "code",
   "execution_count": 1,
   "metadata": {},
   "outputs": [],
   "source": [
    "\n",
    "class Vecteur:\n",
    "    def __init__(self, x = 0, y = 0, r = 0, s = 0 ):\n",
    "        self.x = x\n",
    "        self.y = y\n",
    "        self.r = r\n",
    "        self.s = s\n",
    "    \n",
    "    def addvect(x = 0, y = 0, r = 0, s = 0):\n",
    "        a = x + r\n",
    "        b = y + s\n",
    "        return ( a, b)\n",
    "    \n",
    "    def multivect(x = 0, y = 0, r = 0): \n",
    "        c = x * r  \n",
    "        d = y * r\n",
    "        return ( c, d)\n",
    "\n"
   ]
  },
  {
   "cell_type": "markdown",
   "metadata": {},
   "source": [
    "Ici le problème était que l'objet créé possédait 4 paramètres lors de la créations et que les fonctions (addvect et multivect) ne prenait pas en compte le self de l'objet. Cela était donc totalement inutiles de créer une classe vecteur. "
   ]
  },
  {
   "cell_type": "markdown",
   "metadata": {},
   "source": [
    "### Deuxième essai"
   ]
  },
  {
   "cell_type": "code",
   "execution_count": 2,
   "metadata": {},
   "outputs": [
    {
     "name": "stdout",
     "output_type": "stream",
     "text": [
      "[30, 30]\n"
     ]
    }
   ],
   "source": [
    "class Vecteur:\n",
    "    def __init__(self, x = [0, 0], y = [0, 0]):\n",
    "        self.x = x\n",
    "        self.y = y\n",
    "\n",
    "    def addvect(x = [0, 0], y = [0, 0]):\n",
    "        return ( [x[0] + y[0], x[1]+ y[1]])\n",
    "\n",
    "    def multivect(x = [0, 0], y = 0):\n",
    "        return ([x[0] * y, x[1] * y])\n",
    "\n",
    "    def scalvect(x = [0, 0], y = [0, 0]):\n",
    "        return ((x[0] * y[0]) + (x[1] * y[1]))\n",
    "    \n",
    "x = [2, 2]\n",
    "y = [4, 4]\n",
    "z = 5\n",
    "f = Vecteur.multivect(Vecteur.addvect(x,y),z) #Exemple pour montrer que c'est pas pratique.\n",
    "print(f)"
   ]
  },
  {
   "cell_type": "markdown",
   "metadata": {},
   "source": [
    "Ici,le problème est le même, on utilise pas le self de l'objet et celui-ci est composé de deux paramètres mais c'est deux liste qui sont sous une forme de pseudo vecteur. Hors ce ne serait pas pratique de programmer avec cela."
   ]
  },
  {
   "cell_type": "markdown",
   "metadata": {},
   "source": [
    "### Troisème essai"
   ]
  },
  {
   "cell_type": "code",
   "execution_count": 3,
   "metadata": {},
   "outputs": [],
   "source": [
    "class Vecteur:\n",
    "    def __init__(self, x, y):\n",
    "        self.x = x\n",
    "        self.y = y\n",
    "\n",
    "    def __str__(self):\n",
    "        return f\"({self.x:.2f}, {self.y:.2f})\" #Pour envoyer deux nombres après la virgules.\n",
    "\n",
    "    def __add__(self, other): #Additionner deux objets.\n",
    "        return Vecteur(\n",
    "            self.x + other.x,\n",
    "            self.y + other.y,\n",
    "        )\n",
    "\n",
    "    def __sub__(self, other): #Soustraire deux objets\n",
    "        return Vecteur(\n",
    "            self.x - other.x,\n",
    "            self.y - other.y,\n",
    "        )\n",
    "    \n",
    "    def __neg__(self): #Pour que le vecteur soit placé après une signe \"-\"\n",
    "        return Vecteur(\n",
    "                -1*self.x,\n",
    "                -1*self.y,\n",
    "                )\n",
    "\n",
    "\n",
    "    def __mul__(self, other): #Multiplier l'objet avec un autre\n",
    "        if isinstance(other, (int, float)): #Si le \"other\" est une constante\n",
    "            return Vecteur(\n",
    "                self.x * other,\n",
    "                self.y * otehr,\n",
    "            )\n",
    "        elif isinstance(other, Vecteur): #Si le \"other\" est un autre vecteur\n",
    "            \n",
    "            return self.x * other.x + self.y * other.y\n",
    "\n",
    "\n",
    "    __rmul__ = __mul__ #Pour pouvoir faire l'operations dans les deux senses.\n",
    "\n"
   ]
  },
  {
   "cell_type": "markdown",
   "metadata": {},
   "source": [
    "Cette classe est suffisante mais ne prend pas encore encore en compte la troisème dimension. On peut voir que les opérations retourne un vecteur et donc que l'on peut faire plusieur opérations de suite. Nous modifions des methodes déjà existantes (__add__) pour qu'elles puissent être utilisées avec les objets créés avec cette classe."
   ]
  },
  {
   "cell_type": "markdown",
   "metadata": {},
   "source": [
    "## Classe Rocket"
   ]
  },
  {
   "cell_type": "markdown",
   "metadata": {},
   "source": [
    "Une fois les outils nécaissaires pour faire les opérations créées, nous pouvons faire la classe Rocket."
   ]
  },
  {
   "cell_type": "markdown",
   "metadata": {},
   "source": [
    "### Premier essai"
   ]
  },
  {
   "cell_type": "code",
   "execution_count": 4,
   "metadata": {},
   "outputs": [
    {
     "ename": "ModuleNotFoundError",
     "evalue": "No module named 'vecteur'",
     "output_type": "error",
     "traceback": [
      "\u001b[0;31m---------------------------------------------------------------------------\u001b[0m",
      "\u001b[0;31mModuleNotFoundError\u001b[0m                       Traceback (most recent call last)",
      "\u001b[0;32m<ipython-input-4-1552859a7e13>\u001b[0m in \u001b[0;36m<module>\u001b[0;34m\u001b[0m\n\u001b[0;32m----> 1\u001b[0;31m \u001b[0;32mfrom\u001b[0m \u001b[0mvecteur\u001b[0m \u001b[0;32mimport\u001b[0m \u001b[0mVecteur\u001b[0m\u001b[0;34m\u001b[0m\u001b[0;34m\u001b[0m\u001b[0m\n\u001b[0m\u001b[1;32m      2\u001b[0m \u001b[0;34m\u001b[0m\u001b[0m\n\u001b[1;32m      3\u001b[0m \u001b[0;32mclass\u001b[0m \u001b[0mRocket\u001b[0m\u001b[0;34m:\u001b[0m\u001b[0;34m\u001b[0m\u001b[0;34m\u001b[0m\u001b[0m\n\u001b[1;32m      4\u001b[0m     \u001b[0;32mdef\u001b[0m \u001b[0m__init__\u001b[0m\u001b[0;34m(\u001b[0m\u001b[0mself\u001b[0m\u001b[0;34m,\u001b[0m \u001b[0mx0\u001b[0m\u001b[0;34m,\u001b[0m \u001b[0mv0\u001b[0m\u001b[0;34m,\u001b[0m \u001b[0ma0\u001b[0m\u001b[0;34m=\u001b[0m\u001b[0mVecteur\u001b[0m\u001b[0;34m(\u001b[0m\u001b[0;36m0\u001b[0m\u001b[0;34m,\u001b[0m \u001b[0;34m-\u001b[0m\u001b[0;36m9.81\u001b[0m\u001b[0;34m)\u001b[0m\u001b[0;34m,\u001b[0m \u001b[0mm\u001b[0m\u001b[0;34m=\u001b[0m\u001b[0;36m1\u001b[0m\u001b[0;34m)\u001b[0m\u001b[0;34m:\u001b[0m\u001b[0;34m\u001b[0m\u001b[0;34m\u001b[0m\u001b[0m\n\u001b[1;32m      5\u001b[0m         \u001b[0mself\u001b[0m\u001b[0;34m.\u001b[0m\u001b[0mx0\u001b[0m \u001b[0;34m=\u001b[0m \u001b[0mx0\u001b[0m  \u001b[0;31m# position initiale (Vecteur)\u001b[0m\u001b[0;34m\u001b[0m\u001b[0;34m\u001b[0m\u001b[0m\n",
      "\u001b[0;31mModuleNotFoundError\u001b[0m: No module named 'vecteur'"
     ]
    }
   ],
   "source": [
    "from vecteur import Vecteur\n",
    "\n",
    "class Rocket:\n",
    "    def __init__(self, x0, v0, a0=Vecteur(0, -9.81), m=1):\n",
    "        self.x0 = x0  # position initiale (Vecteur)\n",
    "        self.v0 = v0  # vitesse initiale (Vecteur)\n",
    "        self.a0 = a0  # vitesse initiale (Vecteur)\n",
    "        self.m = m\n",
    "\n",
    "    def MRUA(self, t):\n",
    "        return self.x0 + self.v0*t + 0.5*self.a0*t*t"
   ]
  },
  {
   "cell_type": "markdown",
   "metadata": {},
   "source": [
    "Ici nous pouvons voir que nous utilisons un simple mrua et la masse n'est pas prise en compte. Grâce à l'équation : $1/2a_0*t^2+v_0*t+x_0$. Ce n'est pas très précis mais cela nous permet de faire un debut de graph."
   ]
  },
  {
   "cell_type": "markdown",
   "metadata": {},
   "source": [
    "### Les Forces et Energie"
   ]
  },
  {
   "cell_type": "markdown",
   "metadata": {},
   "source": [
    "#### Les Forces"
   ]
  },
  {
   "cell_type": "markdown",
   "metadata": {},
   "source": [
    "Les forces physiques qui agissent sur la fusée doivent être prisent en compte si l'on veut reproduire le plus fidélement la trajéctoire de cet objet. La première idée a été de crée une méthode dans la classe Rocket (vu que les forces vont venir directement changerles paramêtres de la fusée)."
   ]
  },
  {
   "cell_type": "code",
   "execution_count": null,
   "metadata": {},
   "outputs": [],
   "source": [
    "class Rocket:\n",
    "    #Definition de la fusée avec toutes les variables nécessaire au programme\n",
    "    def __init__(self, v0,x0, a0=Vecteur(0, -9.81), m=1):\n",
    "        self.x0 = x0  # position initiale (Vecteur)\n",
    "        self.v0 = v0  # vitesse initiale (Vecteur)\n",
    "        self.a0 = a0  # vitesse initiale (Vecteur)\n",
    "        self.m = m    #masse initiale\n",
    "\n",
    "    def somme_f(self):\n",
    "        poids = Vecteur(self.m*0, self.m*-9.81)\n",
    "        ff = Vecteur(-1/4*self.v0.x, -1/4*self.v0.y) #La force de frottement n'est pas juste pour l'instant\n",
    "        self.somme_f = poids + ff\n",
    "        return self.somme_f"
   ]
  },
  {
   "cell_type": "markdown",
   "metadata": {},
   "source": [
    "Nous avons besoin de cette somme des forces dans certaines méthodes de déplacement mais nous allons voir cela après."
   ]
  },
  {
   "cell_type": "markdown",
   "metadata": {},
   "source": [
    "Maintenant que des nouvelles forces vont s'ajouter à notre simulation, nous devons être capable de pouvoir choisir si l'on prends une force ou pas. C'est pourquoi nous avons essayer une nouvelle façon de faire une classe force qui se base sur une liste pour voir qu'elles forces sont prisent en comptes dans la somme des forces."
   ]
  },
  {
   "cell_type": "code",
   "execution_count": null,
   "metadata": {},
   "outputs": [],
   "source": [
    "forces = []\n",
    "\n",
    "class Forces:\n",
    "    def __init__(self):\n",
    "        pass\n",
    "    def poids(Rocket):\n",
    "        poids = Vecteur(Rocket.m * 0, Rocket.m * -9.81)\n",
    "        return poids\n",
    "\n",
    "    def frottement(Rocket):\n",
    "        frottement = Vecteur(-1/4*Rocket.v0.x, -1/4*Rocket.v0.y)\n",
    "        return frottement\n",
    "\n",
    "    def sum(Rocket):\n",
    "        sum = Vecteur(0, 0)\n",
    "        for force in forces:\n",
    "            if force == \"poids\":\n",
    "                sum = Forces.poids(Rocket) + sum\n",
    "            if force == \"frottement\":\n",
    "                sum = Forces.frottement(Rocket) +sum\n",
    "        return sum\n"
   ]
  },
  {
   "cell_type": "markdown",
   "metadata": {},
   "source": [
    "#### Energie"
   ]
  },
  {
   "cell_type": "markdown",
   "metadata": {},
   "source": [
    "Il est plus simple, pour nous, de calculer l'énergie mécanique de la fusée directement avec la classe Rocket."
   ]
  },
  {
   "cell_type": "code",
   "execution_count": null,
   "metadata": {},
   "outputs": [],
   "source": [
    "class Rocket:\n",
    "    #Definition de la fusée avec toutes les variables nécessaire au programme\n",
    "    def __init__(self, v0,x0, a0=Vecteur(0, -9.81), m=1):\n",
    "        self.x0 = x0  # position initiale (Vecteur)\n",
    "        self.v0 = v0  # vitesse initiale (Vecteur)\n",
    "        self.a0 = a0  # vitesse initiale (Vecteur)\n",
    "        self.m = m    #masse initiale \n",
    "    \n",
    "    \n",
    "    def energie(self):\n",
    "        # type de mouvement avec l'énergie cinétique et potentielle\n",
    "        return 0.5 * self.m * self.v0 * self.v0 + self.m * self.a0 * self.x0 "
   ]
  },
  {
   "cell_type": "markdown",
   "metadata": {},
   "source": [
    "On peut voir que nous gardons \"self.a0\". Nous pouvons nous le permettre car nous avons mis que \"a0\" était un vecteur (0, -9.81) par défaut. Si nous utilisons le calcule d'énergie avec un Mrua, alors c'est l'accélération que l'on utilise. Mais si nous utilisons une autre méthode, l'accélération changera car les autres méthodes n'utilisent pas une accélération continue. Vous pouvez voir ça dans la chapitre \"Classe Mover\"."
   ]
  },
  {
   "cell_type": "markdown",
   "metadata": {},
   "source": [
    "## Classes Mover"
   ]
  },
  {
   "cell_type": "markdown",
   "metadata": {},
   "source": [
    "Le MRUA est une méthode qui permet de \"prédire\" la trajectoire d'un objet mais cela n'est pas précis. En plus, c'est une méthode qui pourrait être appliquée à d'autre objet. Donc la garder dans la classe Rocket n'est pas forcement le plus optimisé. Nous devons donc crée une classe \"MRUA\" qui va prendre les paramètres d'une Rocket puis va lui faire appliquer une méthode de déplacement. Nous faisons pareil avec le \"PasApas\"."
   ]
  },
  {
   "cell_type": "code",
   "execution_count": null,
   "metadata": {},
   "outputs": [],
   "source": [
    "class Rocket:\n",
    "    #Definition de la fusée avec toutes les variables nécessaire au programme\n",
    "    def __init__(self, v0,x0, a0=Vecteur(0, -9.81), m=1):\n",
    "        self.x0 = x0  # position initiale (Vecteur)\n",
    "        self.v0 = v0  # vitesse initiale (Vecteur)\n",
    "        self.a0 = a0  # vitesse initiale (Vecteur)\n",
    "        self.m = m    #masse initiale\n",
    "\n",
    "class MRUA():                                                                  \n",
    "    def move(self, Rocket, dt):                                                \n",
    "        # type de mouvenemt avec des MRUA basiques                             \n",
    "        Rocket.v0 += Rocket.a0*dt                                              \n",
    "        Rocket.x0 += Rocket.v0 * dt + 0.5 * Rocket.a0 * dt * dt                \n",
    "                       \n",
    "                                                                               \n",
    "class PasAPas():                                                               \n",
    "    def move(self,Rocket, dt):                                                 \n",
    "        #type de mouvement dit Pas à Pas (version 1)                           \n",
    "        forces = Rocket.somme_f()                                              \n",
    "        Rocket.a0 = Vecteur(forces.x / Rocket.m, forces.y / Rocket.m)          \n",
    "        Rocket.v0 = Rocket.a0 * dt + Rocket.v0                                 \n",
    "        Rocket.x0 += Rocket.v0 * dt                                            \n"
   ]
  },
  {
   "cell_type": "markdown",
   "metadata": {},
   "source": [
    "Comme on peut le voir, Mrua et pas_a_pas (qui est un autre moyen de déplacement) ne sont plus dans la classe Rocket. "
   ]
  },
  {
   "cell_type": "markdown",
   "metadata": {},
   "source": [
    "## Autres"
   ]
  },
  {
   "cell_type": "markdown",
   "metadata": {},
   "source": [
    "Pour des raisons de simplifications de la vie, nous avonc penser que faire une classe pour les fonctions trigonométrique serait judicieux (car elles sont en radians dans Python) mais, nous avons remarquer que ce ne serait pas efficace."
   ]
  },
  {
   "cell_type": "code",
   "execution_count": null,
   "metadata": {},
   "outputs": [],
   "source": [
    "def Cos(a):\n",
    "    return cos(radians(a))\n",
    "def Sin(a):\n",
    "    return sin(radians(a))\n",
    "def Tan(a):\n",
    "    return tan(radians(a))"
   ]
  },
  {
   "cell_type": "code",
   "execution_count": null,
   "metadata": {
    "scrolled": true
   },
   "outputs": [],
   "source": [
    "import matplotlib.pyplot as plt\n",
    "from rocket import Rocket\n",
    "from vecteur import Vecteur\n",
    "\n",
    "x0 = vecteur(0,0)   #coord. initial de la fusée\n",
    "V0 = vecteur(50,50) #Vitesse initial de la fusée\n",
    "time = 0\n",
    "rocket = Rocket(x0, v0)\n",
    "\n",
    "xt = x0\n",
    "x = []   #Liste des coord. pour l'axe X sur matplotlib\n",
    "y = []   #Pour l'axe Y\n",
    "\n",
    "while time < 50 and xt.y >= 0: #Conditions pour stopper la boucle\n",
    "    xt = rocket.MRUA(time)  \n",
    "    time += 0.1\n",
    "    x.append(xt.x) #Ajoute a la liste avec .append\n",
    "    y.append(xt.y)\n",
    "\n",
    "plt.plot(x, y)\n",
    "plt.show()\n"
   ]
  },
  {
   "cell_type": "markdown",
   "metadata": {},
   "source": [
    "En ce qui conserne la partie graphique du projet, nous avons d'abbord fait un premier aperçu avec la bibliothèque \"mathplotlib\". Cette bibliothèque nous a permit de faire un graphique représentant notre MRUA. Cela affiche un graphe en deux dimensions avec la trajectoire de la fusée. "
   ]
  },
  {
   "cell_type": "markdown",
   "metadata": {},
   "source": [
    "Le cosinus de 90 et de 270 est mal gérer par python et renvoie donc une valeur approximative et donc fausse. C'est pourquoi on force la valeur de la vitesse en x = 0"
   ]
  },
  {
   "cell_type": "code",
   "execution_count": null,
   "metadata": {},
   "outputs": [],
   "source": [
    "if theta == 90 or theta == 270:\n",
    "    v0 = Vecteur(0, sin(theta_rad)*v_pas0)"
   ]
  },
  {
   "cell_type": "markdown",
   "metadata": {},
   "source": [
    "# Pygame\n",
    "    "
   ]
  },
  {
   "cell_type": "markdown",
   "metadata": {},
   "source": [
    "Pour faire un rendu graphique, nous avons choisit d'utiliser la librairie Pygame qui nous permets de faires toutes les animations et fenêtres que nous avonc besoin vu que nous restons sur de la 2D. Dans le fichier **settings.py**, se trouvent toutes les variables, images et fonctions nécessaires au fichier **main.py** qui lui gère la création de la fenêtre et l'affichage des différents éléments. "
   ]
  },
  {
   "cell_type": "markdown",
   "metadata": {},
   "source": [
    "Pour creer une fenêtre avec pygame, il faut d'abbord initialiser pygame avec la commande pygame.init( ) (si des polices d'écritures sont charger, comme dans le fichier **settings.py**, il faut écrire pygame.font.init( )). La fenêtre doit toujours être dans une boucle while sinon elle se ferme automatiquement. "
   ]
  },
  {
   "cell_type": "markdown",
   "metadata": {},
   "source": [
    "Au debut, nous avions prévu de faire une fenêtre avec plusieurs sous menus. Mais pour des raisons de praticité, nous avons décider de les enlever et de ne laisser que les élléments importants telle que les inputs et la simulation. "
   ]
  },
  {
   "cell_type": "markdown",
   "metadata": {},
   "source": [
    "La fonction main_menu( ) sert de module pour le menu qui redirige ensuite vers les autres modules."
   ]
  },
  {
   "cell_type": "markdown",
   "metadata": {},
   "source": [
    "La fonction input( ) sert de module pour les inputs qui serviront pour la simulation de la fusée."
   ]
  },
  {
   "cell_type": "markdown",
   "metadata": {},
   "source": [
    "La fonction simulator( ) sert de module pour la simulation."
   ]
  },
  {
   "cell_type": "markdown",
   "metadata": {},
   "source": [
    "La fonction score( ) sert de module qui apparait à la fin de la simulation et qui montre les différentes variables obtenues lors de la simulation."
   ]
  },
  {
   "cell_type": "markdown",
   "metadata": {},
   "source": [
    "La fonction options( ) sert de module pour les options de la simulation."
   ]
  },
  {
   "cell_type": "markdown",
   "metadata": {},
   "source": []
  },
  {
   "cell_type": "code",
   "execution_count": null,
   "metadata": {},
   "outputs": [],
   "source": [
    "def draw_text(text, font, color, surface, x, y):\n",
    "    #modules pour afficher du texte\n",
    "\n",
    "    textobj = font.render(text, 1, color)\n",
    "    textrect = textobj.get_rect()\n",
    "    textrect.topleft = (x, y)\n",
    "    surface.blit(textobj, textrect)"
   ]
  },
  {
   "cell_type": "markdown",
   "metadata": {},
   "source": [
    "Cette fonction permets de simplement et rapidement creer une zone de texte non-éditable sur la fenêtre. Cette fonction est pratique car elle permet de faire toute les fonctionalités en une seule ligne de code et donc cela nous evite de d'oublier quelque chose ou bien de nous répéter si l'on a plusieurs zones de texte à faire. Et pour appeler la fonction, il suffit d'écrire:"
   ]
  },
  {
   "cell_type": "code",
   "execution_count": null,
   "metadata": {},
   "outputs": [],
   "source": [
    "draw_text(\"le texte\", la police, la couleur, la fenêtre, et la position)"
   ]
  },
  {
   "cell_type": "markdown",
   "metadata": {},
   "source": []
  },
  {
   "cell_type": "code",
   "execution_count": null,
   "metadata": {},
   "outputs": [],
   "source": [
    "class InputBox:\n",
    "    #Inputbox de SKRX\n",
    "    def __init__(self, x, y, w, h, text=''):\n",
    "        self.rect = pygame.Rect(x, y, w, h)\n",
    "        self.color = COLOR_INACTIVE\n",
    "        self.text = text\n",
    "        self.txt_surface = FONT.render(text, True, self.color)\n",
    "        self.active = False\n",
    "\n",
    "    def handle_event(self, event):\n",
    "        if event.type == pygame.MOUSEBUTTONDOWN:\n",
    "            # If the user clicked on the input_box rect.\n",
    "            if self.rect.collidepoint(event.pos):\n",
    "                # Toggle the active variable.\n",
    "                self.active = not self.active\n",
    "            else:\n",
    "                self.active = False\n",
    "            # Change the current color of the input box.\n",
    "            self.color = COLOR_ACTIVE if self.active else COLOR_INACTIVE\n",
    "        if event.type == pygame.KEYDOWN:\n",
    "            if self.active:\n",
    "                if event.key == pygame.K_RETURN:\n",
    "                    print(self.text)\n",
    "                    #self.text = ''\n",
    "                elif event.key == pygame.K_BACKSPACE:\n",
    "                    self.text = self.text[:-1]\n",
    "                else:\n",
    "                    self.text += event.unicode\n",
    "                # Re-render the text.\n",
    "                self.txt_surface = FONT.render(self.text, True, self.color)\n",
    "\n",
    "    def update(self):\n",
    "        # Resize the box if the text is too long.\n",
    "        width = max(200, self.txt_surface.get_width()+10)\n",
    "        self.rect.w = width\n",
    "\n",
    "    def draw(self, screen):\n",
    "        # Blit the text.\n",
    "        screen.blit(self.txt_surface, (self.rect.x+5, self.rect.y+5))\n",
    "        # Blit the rect.\n",
    "        pygame.draw.rect(screen, self.color, self.rect, 2)"
   ]
  },
  {
   "cell_type": "markdown",
   "metadata": {},
   "source": [
    "Cette autre fonction creer par SKRX sur stackoverflow permet de creer un zone de texte éditable et ajustable"
   ]
  },
  {
   "cell_type": "markdown",
   "metadata": {},
   "source": [
    "# Colisions\n",
    "\n",
    "Avant, nous detections si la fusée avait un x0.y > 0 pour savoir si l'on devait arreter la simulation. Mais maintenant, grâce au module Rect.colliderect(), on peut determiner si la fusée à toucher le sol en créant un rectangle sur le sprite de la fusée et du sol. Et ainsi s'ils se touchent alors la simulations s'arrete."
   ]
  },
  {
   "cell_type": "code",
   "execution_count": null,
   "metadata": {},
   "outputs": [],
   "source": [
    "rocket_cp = pygame.Rect(Rocket_x + 450 - scroll[0], Rocket_y - scroll[1] + 495, rocket_imgX, rocket_imgY)\n",
    "dirt_cp = pygame.Rect((0 - scroll[0]), (HEIGHT - scroll[1] + 410), dirt_imgX, dirt_imgY)\n",
    "\n",
    "if pygame.Rect.colliderect(dirt_cp, rocket_cp):\n",
    "    # vérifie la colision entre la fusée et le sol\n",
    "    sim = False\n",
    "    rrr.v0 = Vecteur(50, 100)\n",
    "    rrr.x0 = Vecteur(0, 1)\n",
    "    dirtX = dirt_imgX"
   ]
  },
  {
   "cell_type": "markdown",
   "metadata": {},
   "source": [
    "# Mouvement dynamique de la caméra \n",
    "\n",
    "Avant, la caméra restait sur place et donc la simulation était limité à la distance de l'écran. Mais, avec l'ajout d'une liste scroll qui deplace tous les sprites en fonction de la postion de l'objet. On a l'impression que la caméra se déplace avec la fusée. Cela crée un autre problème pour le sprite sur sol, il n'est pas infini. Pour cela nous avons au début essayer de faire en sorte qu'il se rèpete en fonction de la position de l'objet mais ce n'est pas la meilleur solution. La prochaine idée serait de faire des \"chunks\" avec des sprites pour le sol plus petit. Comme cela nous pourrions mieux les générer et même possiblement faire un sol avec du relièfe en utilisant des sons de perlin. "
   ]
  },
  {
   "cell_type": "code",
   "execution_count": null,
   "metadata": {},
   "outputs": [],
   "source": [
    "# scroll\n",
    "scroll[0] += (Rocket_x - scroll[0])/5\n",
    "scroll[1] += (Rocket_y - scroll[1])/7\n",
    "\n",
    "if Rocket_x > (dirtX - dirt_imgX/1.5):                                                              \n",
    "    # loop pour créer le sol en fonction de la position de la Rocket                                \n",
    "                                                                                                    \n",
    "    dirtX =+ dirt_imgX                                                                              \n",
    "    dirt_cp = pygame.Rect((0 - scroll[0]) + dirtX, (HEIGHT - scroll[1] + 410), dirt_imgX, dirt_imgY)\n",
    "    screen.blit(dirt_img, (0 - scroll[0] + dirtX, HEIGHT - scroll[1] + 410))                        "
   ]
  },
  {
   "cell_type": "markdown",
   "metadata": {},
   "source": [
    "# to do list pygame \n",
    "1. transmission des inputs entre input.py et simulation.py\n",
    "2. rotation des sprites.\n",
    "3. afficher les variables sur la simulations mini menu à droite. +\n",
    "4. ralentir la simulation. ++\n",
    "5. faire que la camera suive la rocket et montre sur une map la position sur le mini menu à droite. ++\n",
    "6. faire que la simulation se lance que lorsque l'on appuie sur un bouton ++\n",
    "7. faire des colideboxes entre la rocket et le sol ++\n",
    "8. particules pour la rocket\n",
    "9. faire de la paralaxe pour le ciel\n"
   ]
  },
  {
   "cell_type": "code",
   "execution_count": null,
   "metadata": {},
   "outputs": [],
   "source": []
  }
 ],
 "metadata": {
  "kernelspec": {
   "display_name": "Python 3",
   "language": "python",
   "name": "python3"
  },
  "language_info": {
   "codemirror_mode": {
    "name": "ipython",
    "version": 3
   },
   "file_extension": ".py",
   "mimetype": "text/x-python",
   "name": "python",
   "nbconvert_exporter": "python",
   "pygments_lexer": "ipython3",
   "version": "3.8.5"
  }
 },
 "nbformat": 4,
 "nbformat_minor": 4
}
