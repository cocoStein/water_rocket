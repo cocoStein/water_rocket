{
 "cells": [
  {
   "cell_type": "markdown",
   "metadata": {},
   "source": [
    "# Projet Water ROCKET\n"
   ]
  },
  {
   "cell_type": "markdown",
   "metadata": {},
   "source": [
    "## Introduction"
   ]
  },
  {
   "cell_type": "markdown",
   "metadata": {},
   "source": [
    "Nous sommes des élèves de 2e année de maturité. Pour poursuivre notre cursus, nous devons faire un TM ( travail de maturité).\n",
    "Le but du TM choisit est de modéliser la trajectoire d'une fusée à eau en Python en collaboration avec des expériences réelles du Projet.\n",
    "Pour ce faire, nous allons utilisé le IDE Pycharm pour la programation puis Github pour le partage de documents entre les principaux acteurs."
   ]
  },
  {
   "cell_type": "markdown",
   "metadata": {},
   "source": [
    "## Etapes de travail"
   ]
  },
  {
   "cell_type": "markdown",
   "metadata": {},
   "source": [
    "1. Familiarisation avec les outils de simulation et l'environement.\n",
    "2. Implémentation des équations de base du mouvement\n",
    "3. Prise en compte de facteur physique plus généraux.\n",
    "4. Créations d'un rendu dynamique."
   ]
  },
  {
   "cell_type": "markdown",
   "metadata": {},
   "source": [
    "## GitHub"
   ]
  },
  {
   "cell_type": "markdown",
   "metadata": {},
   "source": [
    "L'utilisation de GitHub pour ce projet est juducieux est pratique car il nous que pour le professeur de Tm. Plus besoin de s'envoyer des mails avec le code et les changements éffectuer. Car tout le monde peut à tous moment aller sur le Github et voir l'avancement et les changement éffectuer par les utilisateurs. De plus, un historique de la totalité des commit est disponible sur le GitHub, ce qui nous permets ainsi de revenir sur un ancien code en cas de probleme sur un code."
   ]
  },
  {
   "cell_type": "markdown",
   "metadata": {},
   "source": [
    "Lien pour le GitHub: https://github.com/cocoStein/water_rocket"
   ]
  },
  {
   "cell_type": "markdown",
   "metadata": {},
   "source": [
    "étape pour commit un projet sur le GitHub: \n",
    "   1. clique droit: add\n",
    "   2. VCS commit\n",
    "   3. donner un nom au projet puis commit and push"
   ]
  },
  {
   "cell_type": "markdown",
   "metadata": {},
   "source": [
    "## Classe Vecteur"
   ]
  },
  {
   "cell_type": "markdown",
   "metadata": {},
   "source": [
    "Comme nous allons représenter notre fusée dans un système en deux puis en trois dimensions, nous devons utilisé des vecteurs. Python ne gérant pas (de base) les vecteurs, nous devons créer une classe vecteur qui pourra gérer des opérations entre plusieur vecteur."
   ]
  },
  {
   "cell_type": "markdown",
   "metadata": {},
   "source": [
    "### Premier essai"
   ]
  },
  {
   "cell_type": "code",
   "execution_count": 1,
   "metadata": {},
   "outputs": [],
   "source": [
    "\n",
    "class Vecteur:\n",
    "    def __init__(self, x = 0, y = 0, r = 0, s = 0 ):\n",
    "        self.x = x\n",
    "        self.y = y\n",
    "        self.r = r\n",
    "        self.s = s\n",
    "    \n",
    "    def addvect(x = 0, y = 0, r = 0, s = 0):\n",
    "        a = x + r\n",
    "        b = y + s\n",
    "        return ( a, b)\n",
    "    \n",
    "    def multivect(x = 0, y = 0, r = 0): \n",
    "        c = x * r  \n",
    "        d = y * r\n",
    "        return ( c, d)\n",
    "\n"
   ]
  },
  {
   "cell_type": "markdown",
   "metadata": {},
   "source": [
    "Ici le problème était que l'objet créé possédait 4 paramètres lors de la créations et que les fonctions (addvect et multivect) ne prenait pas en compte le self de l'objet. Cela était donc totalement inutiles de créer une classe vecteur. "
   ]
  },
  {
   "cell_type": "markdown",
   "metadata": {},
   "source": [
    "### Deuxième essai"
   ]
  },
  {
   "cell_type": "code",
   "execution_count": 2,
   "metadata": {},
   "outputs": [
    {
     "name": "stdout",
     "output_type": "stream",
     "text": [
      "[30, 30]\n"
     ]
    }
   ],
   "source": [
    "class Vecteur:\n",
    "    def __init__(self, x = [0, 0], y = [0, 0]):\n",
    "        self.x = x\n",
    "        self.y = y\n",
    "\n",
    "    def addvect(x = [0, 0], y = [0, 0]):\n",
    "        return ( [x[0] + y[0], x[1]+ y[1]])\n",
    "\n",
    "    def multivect(x = [0, 0], y = 0):\n",
    "        return ([x[0] * y, x[1] * y])\n",
    "\n",
    "    def scalvect(x = [0, 0], y = [0, 0]):\n",
    "        return ((x[0] * y[0]) + (x[1] * y[1]))\n",
    "    \n",
    "x = [2, 2]\n",
    "y = [4, 4]\n",
    "z = 5\n",
    "f = Vecteur.multivect(Vecteur.addvect(x,y),z) #Exemple pour montrer que c'est pas pratique.\n",
    "print(f)"
   ]
  },
  {
   "cell_type": "markdown",
   "metadata": {},
   "source": [
    "Ici,le problème est le même, on utilise pas le self de l'objet et celui-ci est composé de deux paramètres mais c'est deux liste qui sont sous une forme de pseudo vecteur. Hors ce ne serait pas pratique de programmer avec cela."
   ]
  },
  {
   "cell_type": "markdown",
   "metadata": {},
   "source": [
    "### Troisème essai"
   ]
  },
  {
   "cell_type": "code",
   "execution_count": 3,
   "metadata": {},
   "outputs": [],
   "source": [
    "class Vecteur:\n",
    "    def __init__(self, x, y):\n",
    "        self.x = x\n",
    "        self.y = y\n",
    "\n",
    "    def __str__(self):\n",
    "        return f\"({self.x:.2f}, {self.y:.2f})\" #Pour envoyer deux nombres après la virgules.\n",
    "\n",
    "    def __add__(self, other):\n",
    "        return Vecteur(\n",
    "            self.x + other.x,\n",
    "            self.y + other.y,\n",
    "        )\n",
    "\n",
    "    def __sub__(self, other):\n",
    "        return Vecteur(\n",
    "            self.x - other.x,\n",
    "            self.y - other.y,\n",
    "        )\n",
    "\n",
    "    def __mul__(self, constante):\n",
    "        if isinstance(constante, (int, float)):\n",
    "            return Vecteur(\n",
    "                self.x * constante,\n",
    "                self.y * constante,\n",
    "            )\n",
    "\n",
    "\n",
    "    __rmul__ = __mul__ #Pour pouvoir faire l'operations dans les deux senses.\n",
    "\n"
   ]
  },
  {
   "cell_type": "markdown",
   "metadata": {},
   "source": [
    "Cette classe est suffisante mais ne prend pas encore encore en compte la troisème dimension. On peut voir que les opérations retourne un vecteur et donc que l'on peut faire plusieur opérations de suite."
   ]
  },
  {
   "cell_type": "markdown",
   "metadata": {},
   "source": [
    "## Classe Rocket"
   ]
  },
  {
   "cell_type": "markdown",
   "metadata": {},
   "source": [
    "Une fois les outils nécaissaires pour faire les opérations créées, nous pouvons faire la classe Rocket."
   ]
  },
  {
   "cell_type": "markdown",
   "metadata": {},
   "source": [
    "### Premier essai"
   ]
  },
  {
   "cell_type": "code",
   "execution_count": 5,
   "metadata": {},
   "outputs": [
    {
     "ename": "ModuleNotFoundError",
     "evalue": "No module named 'vecteur'",
     "output_type": "error",
     "traceback": [
      "\u001b[0;31m---------------------------------------------------------------------------\u001b[0m",
      "\u001b[0;31mModuleNotFoundError\u001b[0m                       Traceback (most recent call last)",
      "\u001b[0;32m<ipython-input-5-1552859a7e13>\u001b[0m in \u001b[0;36m<module>\u001b[0;34m\u001b[0m\n\u001b[0;32m----> 1\u001b[0;31m \u001b[0;32mfrom\u001b[0m \u001b[0mvecteur\u001b[0m \u001b[0;32mimport\u001b[0m \u001b[0mVecteur\u001b[0m\u001b[0;34m\u001b[0m\u001b[0;34m\u001b[0m\u001b[0m\n\u001b[0m\u001b[1;32m      2\u001b[0m \u001b[0;34m\u001b[0m\u001b[0m\n\u001b[1;32m      3\u001b[0m \u001b[0;32mclass\u001b[0m \u001b[0mRocket\u001b[0m\u001b[0;34m:\u001b[0m\u001b[0;34m\u001b[0m\u001b[0;34m\u001b[0m\u001b[0m\n\u001b[1;32m      4\u001b[0m     \u001b[0;32mdef\u001b[0m \u001b[0m__init__\u001b[0m\u001b[0;34m(\u001b[0m\u001b[0mself\u001b[0m\u001b[0;34m,\u001b[0m \u001b[0mx0\u001b[0m\u001b[0;34m,\u001b[0m \u001b[0mv0\u001b[0m\u001b[0;34m,\u001b[0m \u001b[0ma0\u001b[0m\u001b[0;34m=\u001b[0m\u001b[0mVecteur\u001b[0m\u001b[0;34m(\u001b[0m\u001b[0;36m0\u001b[0m\u001b[0;34m,\u001b[0m \u001b[0;34m-\u001b[0m\u001b[0;36m9.81\u001b[0m\u001b[0;34m)\u001b[0m\u001b[0;34m,\u001b[0m \u001b[0mm\u001b[0m\u001b[0;34m=\u001b[0m\u001b[0;36m1\u001b[0m\u001b[0;34m)\u001b[0m\u001b[0;34m:\u001b[0m\u001b[0;34m\u001b[0m\u001b[0;34m\u001b[0m\u001b[0m\n\u001b[1;32m      5\u001b[0m         \u001b[0mself\u001b[0m\u001b[0;34m.\u001b[0m\u001b[0mx0\u001b[0m \u001b[0;34m=\u001b[0m \u001b[0mx0\u001b[0m  \u001b[0;31m# position initiale (Vecteur)\u001b[0m\u001b[0;34m\u001b[0m\u001b[0;34m\u001b[0m\u001b[0m\n",
      "\u001b[0;31mModuleNotFoundError\u001b[0m: No module named 'vecteur'"
     ]
    }
   ],
   "source": [
    "from vecteur import Vecteur\n",
    "\n",
    "class Rocket:\n",
    "    def __init__(self, x0, v0, a0=Vecteur(0, -9.81), m=1):\n",
    "        self.x0 = x0  # position initiale (Vecteur)\n",
    "        self.v0 = v0  # vitesse initiale (Vecteur)\n",
    "        self.a0 = a0  # vitesse initiale (Vecteur)\n",
    "        self.m = m\n",
    "\n",
    "    def MRUA(self, t):\n",
    "        return self.x0 + self.v0*t + 0.5*self.a0*t*t"
   ]
  },
  {
   "cell_type": "markdown",
   "metadata": {},
   "source": [
    "Ici nous pouvons voir que nous utilisons un simple mrua et la masse n'est pas prise en compte. Grâce à l'équation : $1/2a_0*t^2+v_0*t+x_0$. Ce n'est pas très précis mais cela nous permet de faire un debut de graph."
   ]
  },
  {
   "cell_type": "markdown",
   "metadata": {},
   "source": [
    "Pour des raisons de simplifications de la vie, nous avonc penser que faire une classe pour les fonctions trigonométrique serait judicieux (car elles sont en radians dans Python) mais, nous avons remarquer que ce ne serait pas efficace."
   ]
  },
  {
   "cell_type": "code",
   "execution_count": null,
   "metadata": {},
   "outputs": [],
   "source": [
    "def Cos(a):\n",
    "    return cos(radians(a))\n",
    "def Sin(a):\n",
    "    return sin(radians(a))\n",
    "def Tan(a):\n",
    "    return tan(radians(a))"
   ]
  },
  {
   "cell_type": "code",
   "execution_count": 4,
   "metadata": {
    "scrolled": true
   },
   "outputs": [
    {
     "ename": "ModuleNotFoundError",
     "evalue": "No module named 'water_rocket'",
     "output_type": "error",
     "traceback": [
      "\u001b[0;31m---------------------------------------------------------------------------\u001b[0m",
      "\u001b[0;31mModuleNotFoundError\u001b[0m                       Traceback (most recent call last)",
      "\u001b[0;32m<ipython-input-4-1600ea359ce7>\u001b[0m in \u001b[0;36m<module>\u001b[0;34m\u001b[0m\n\u001b[1;32m      1\u001b[0m \u001b[0;32mimport\u001b[0m \u001b[0mmatplotlib\u001b[0m\u001b[0;34m.\u001b[0m\u001b[0mpyplot\u001b[0m \u001b[0;32mas\u001b[0m \u001b[0mplt\u001b[0m\u001b[0;34m\u001b[0m\u001b[0;34m\u001b[0m\u001b[0m\n\u001b[0;32m----> 2\u001b[0;31m \u001b[0;32mfrom\u001b[0m \u001b[0mwater_rocket\u001b[0m\u001b[0;34m.\u001b[0m\u001b[0msrc\u001b[0m\u001b[0;34m.\u001b[0m\u001b[0mrocket\u001b[0m \u001b[0;32mimport\u001b[0m \u001b[0mRocket\u001b[0m\u001b[0;34m\u001b[0m\u001b[0;34m\u001b[0m\u001b[0m\n\u001b[0m\u001b[1;32m      3\u001b[0m \u001b[0;32mfrom\u001b[0m \u001b[0mwater_rocket\u001b[0m\u001b[0;34m.\u001b[0m\u001b[0msrc\u001b[0m\u001b[0;34m.\u001b[0m\u001b[0mvecteur\u001b[0m \u001b[0;32mimport\u001b[0m \u001b[0mVecteur\u001b[0m\u001b[0;34m\u001b[0m\u001b[0;34m\u001b[0m\u001b[0m\n",
      "\u001b[0;31mModuleNotFoundError\u001b[0m: No module named 'water_rocket'"
     ]
    }
   ],
   "source": [
    "import matplotlib.pyplot as plt\n",
    "from rocket import Rocket\n",
    "from vecteur import Vecteur\n",
    "\n",
    "x0 = vecteur(0,0)   #coord. initial de la fusée\n",
    "V0 = vecteur(50,50) #Vitesse initial de la fusée\n",
    "time = 0\n",
    "rocket = Rocket(x0, v0)\n",
    "\n",
    "xt = x0\n",
    "x = []   #Liste des coord. pour l'axe X sur matplotlib\n",
    "y = []   #Pour l'axe Y\n",
    "\n",
    "while time < 50 and xt.y >= 0: #Conditions pour stopper la boucle\n",
    "    xt = rocket.MRUA(time)  \n",
    "    time += 0.1\n",
    "    x.append(xt.x) #Ajoute a la liste avec .append\n",
    "    y.append(xt.y)\n",
    "\n",
    "plt.plot(x, y)\n",
    "plt.show()\n"
   ]
  },
  {
   "cell_type": "markdown",
   "metadata": {},
   "source": [
    "En ce qui conserne la partie graphique du projet, nous avons d'abbord fait un premier aperçu avec la bibliothèque \"mathplotlib\". Cette bibliothèque nous a permit de faire un graphique représentant notre MRUA. Cela affiche un graphe en deux dimensions avec la trajectoire de la fusée. "
   ]
  },
  {
   "cell_type": "markdown",
   "metadata": {},
   "source": [
    "Le cosinus de 90 et de 270 est mal gérer par python et renvoie donc une valeur approximative et donc fausse. C'est pourquoi on force la valeur de la vitesse en x = 0"
   ]
  },
  {
   "cell_type": "code",
   "execution_count": null,
   "metadata": {},
   "outputs": [],
   "source": [
    "if theta == 90 or theta == 270:\n",
    "    v0 = Vecteur(0, sin(theta_rad)*v_pas0)"
   ]
  }
 ],
 "metadata": {
  "kernelspec": {
   "display_name": "Python 3",
   "language": "python",
   "name": "python3"
  },
  "language_info": {
   "codemirror_mode": {
    "name": "ipython",
    "version": 3
   },
   "file_extension": ".py",
   "mimetype": "text/x-python",
   "name": "python",
   "nbconvert_exporter": "python",
   "pygments_lexer": "ipython3",
   "version": "3.8.5"
  }
 },
 "nbformat": 4,
 "nbformat_minor": 4
}
